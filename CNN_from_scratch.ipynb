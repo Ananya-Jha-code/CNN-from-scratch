{
  "nbformat": 4,
  "nbformat_minor": 0,
  "metadata": {
    "colab": {
      "name": "CNN from scratch.ipynb",
      "provenance": [],
      "authorship_tag": "ABX9TyPVUhQ3yWveAEcCcJJ+CnlM",
      "include_colab_link": true
    },
    "kernelspec": {
      "name": "python3",
      "display_name": "Python 3"
    },
    "language_info": {
      "name": "python"
    },
    "accelerator": "GPU",
    "widgets": {
      "application/vnd.jupyter.widget-state+json": {
        "bac9eb2ad44446d797dee48d8719243f": {
          "model_module": "@jupyter-widgets/controls",
          "model_name": "HBoxModel",
          "state": {
            "_view_name": "HBoxView",
            "_dom_classes": [],
            "_model_name": "HBoxModel",
            "_view_module": "@jupyter-widgets/controls",
            "_model_module_version": "1.5.0",
            "_view_count": null,
            "_view_module_version": "1.5.0",
            "box_style": "",
            "layout": "IPY_MODEL_722b577d18714ae7afa82752caebf5bd",
            "_model_module": "@jupyter-widgets/controls",
            "children": [
              "IPY_MODEL_b9387598b8824530b320b73fa3d4ce61",
              "IPY_MODEL_96849764118f4da694e3e2f9a9467a72"
            ]
          }
        },
        "722b577d18714ae7afa82752caebf5bd": {
          "model_module": "@jupyter-widgets/base",
          "model_name": "LayoutModel",
          "state": {
            "_view_name": "LayoutView",
            "grid_template_rows": null,
            "right": null,
            "justify_content": null,
            "_view_module": "@jupyter-widgets/base",
            "overflow": null,
            "_model_module_version": "1.2.0",
            "_view_count": null,
            "flex_flow": null,
            "width": null,
            "min_width": null,
            "border": null,
            "align_items": null,
            "bottom": null,
            "_model_module": "@jupyter-widgets/base",
            "top": null,
            "grid_column": null,
            "overflow_y": null,
            "overflow_x": null,
            "grid_auto_flow": null,
            "grid_area": null,
            "grid_template_columns": null,
            "flex": null,
            "_model_name": "LayoutModel",
            "justify_items": null,
            "grid_row": null,
            "max_height": null,
            "align_content": null,
            "visibility": null,
            "align_self": null,
            "height": null,
            "min_height": null,
            "padding": null,
            "grid_auto_rows": null,
            "grid_gap": null,
            "max_width": null,
            "order": null,
            "_view_module_version": "1.2.0",
            "grid_template_areas": null,
            "object_position": null,
            "object_fit": null,
            "grid_auto_columns": null,
            "margin": null,
            "display": null,
            "left": null
          }
        },
        "b9387598b8824530b320b73fa3d4ce61": {
          "model_module": "@jupyter-widgets/controls",
          "model_name": "FloatProgressModel",
          "state": {
            "_view_name": "ProgressView",
            "style": "IPY_MODEL_c591fa6d6d4e44458967a2d5c6c8275b",
            "_dom_classes": [],
            "description": "",
            "_model_name": "FloatProgressModel",
            "bar_style": "success",
            "max": 170498071,
            "_view_module": "@jupyter-widgets/controls",
            "_model_module_version": "1.5.0",
            "value": 170498071,
            "_view_count": null,
            "_view_module_version": "1.5.0",
            "orientation": "horizontal",
            "min": 0,
            "description_tooltip": null,
            "_model_module": "@jupyter-widgets/controls",
            "layout": "IPY_MODEL_93c70782940148f7b15eccb6b83959df"
          }
        },
        "96849764118f4da694e3e2f9a9467a72": {
          "model_module": "@jupyter-widgets/controls",
          "model_name": "HTMLModel",
          "state": {
            "_view_name": "HTMLView",
            "style": "IPY_MODEL_9acbe03850854f3bb9818a4e48fca76d",
            "_dom_classes": [],
            "description": "",
            "_model_name": "HTMLModel",
            "placeholder": "​",
            "_view_module": "@jupyter-widgets/controls",
            "_model_module_version": "1.5.0",
            "value": " 170499072/? [03:03&lt;00:00, 930730.80it/s]",
            "_view_count": null,
            "_view_module_version": "1.5.0",
            "description_tooltip": null,
            "_model_module": "@jupyter-widgets/controls",
            "layout": "IPY_MODEL_8c8a90e016124d81b6736c1ecf4a0db0"
          }
        },
        "c591fa6d6d4e44458967a2d5c6c8275b": {
          "model_module": "@jupyter-widgets/controls",
          "model_name": "ProgressStyleModel",
          "state": {
            "_view_name": "StyleView",
            "_model_name": "ProgressStyleModel",
            "description_width": "initial",
            "_view_module": "@jupyter-widgets/base",
            "_model_module_version": "1.5.0",
            "_view_count": null,
            "_view_module_version": "1.2.0",
            "bar_color": null,
            "_model_module": "@jupyter-widgets/controls"
          }
        },
        "93c70782940148f7b15eccb6b83959df": {
          "model_module": "@jupyter-widgets/base",
          "model_name": "LayoutModel",
          "state": {
            "_view_name": "LayoutView",
            "grid_template_rows": null,
            "right": null,
            "justify_content": null,
            "_view_module": "@jupyter-widgets/base",
            "overflow": null,
            "_model_module_version": "1.2.0",
            "_view_count": null,
            "flex_flow": null,
            "width": null,
            "min_width": null,
            "border": null,
            "align_items": null,
            "bottom": null,
            "_model_module": "@jupyter-widgets/base",
            "top": null,
            "grid_column": null,
            "overflow_y": null,
            "overflow_x": null,
            "grid_auto_flow": null,
            "grid_area": null,
            "grid_template_columns": null,
            "flex": null,
            "_model_name": "LayoutModel",
            "justify_items": null,
            "grid_row": null,
            "max_height": null,
            "align_content": null,
            "visibility": null,
            "align_self": null,
            "height": null,
            "min_height": null,
            "padding": null,
            "grid_auto_rows": null,
            "grid_gap": null,
            "max_width": null,
            "order": null,
            "_view_module_version": "1.2.0",
            "grid_template_areas": null,
            "object_position": null,
            "object_fit": null,
            "grid_auto_columns": null,
            "margin": null,
            "display": null,
            "left": null
          }
        },
        "9acbe03850854f3bb9818a4e48fca76d": {
          "model_module": "@jupyter-widgets/controls",
          "model_name": "DescriptionStyleModel",
          "state": {
            "_view_name": "StyleView",
            "_model_name": "DescriptionStyleModel",
            "description_width": "",
            "_view_module": "@jupyter-widgets/base",
            "_model_module_version": "1.5.0",
            "_view_count": null,
            "_view_module_version": "1.2.0",
            "_model_module": "@jupyter-widgets/controls"
          }
        },
        "8c8a90e016124d81b6736c1ecf4a0db0": {
          "model_module": "@jupyter-widgets/base",
          "model_name": "LayoutModel",
          "state": {
            "_view_name": "LayoutView",
            "grid_template_rows": null,
            "right": null,
            "justify_content": null,
            "_view_module": "@jupyter-widgets/base",
            "overflow": null,
            "_model_module_version": "1.2.0",
            "_view_count": null,
            "flex_flow": null,
            "width": null,
            "min_width": null,
            "border": null,
            "align_items": null,
            "bottom": null,
            "_model_module": "@jupyter-widgets/base",
            "top": null,
            "grid_column": null,
            "overflow_y": null,
            "overflow_x": null,
            "grid_auto_flow": null,
            "grid_area": null,
            "grid_template_columns": null,
            "flex": null,
            "_model_name": "LayoutModel",
            "justify_items": null,
            "grid_row": null,
            "max_height": null,
            "align_content": null,
            "visibility": null,
            "align_self": null,
            "height": null,
            "min_height": null,
            "padding": null,
            "grid_auto_rows": null,
            "grid_gap": null,
            "max_width": null,
            "order": null,
            "_view_module_version": "1.2.0",
            "grid_template_areas": null,
            "object_position": null,
            "object_fit": null,
            "grid_auto_columns": null,
            "margin": null,
            "display": null,
            "left": null
          }
        }
      }
    }
  },
  "cells": [
    {
      "cell_type": "markdown",
      "metadata": {
        "id": "view-in-github",
        "colab_type": "text"
      },
      "source": [
        "<a href=\"https://colab.research.google.com/github/Ananya-Jha-code/CNN-from-scratch/blob/main/CNN_from_scratch.ipynb\" target=\"_parent\"><img src=\"https://colab.research.google.com/assets/colab-badge.svg\" alt=\"Open In Colab\"/></a>"
      ]
    },
    {
      "cell_type": "code",
      "metadata": {
        "colab": {
          "base_uri": "https://localhost:8080/"
        },
        "id": "_CH-cC9uzCsA",
        "outputId": "569d6c40-a75b-4189-8a8c-e5d0259cd0f1"
      },
      "source": [
        "import torch\n",
        "import numpy as np\n",
        "train_on_gpu = torch.cuda.is_available()\n",
        "\n",
        "if not train_on_gpu:\n",
        "    print('CUDA is not available.  Training on CPU ...')\n",
        "else:\n",
        "    print('CUDA is available!  Training on GPU ...')"
      ],
      "execution_count": 1,
      "outputs": [
        {
          "output_type": "stream",
          "text": [
            "CUDA is available!  Training on GPU ...\n"
          ],
          "name": "stdout"
        }
      ]
    },
    {
      "cell_type": "code",
      "metadata": {
        "id": "JoNwaVgJ0XOk"
      },
      "source": [
        "from torchvision import datasets\n",
        "import torchvision.transforms as transforms\n",
        "from torch.utils.data.sampler import SubsetRandomSampler"
      ],
      "execution_count": 2,
      "outputs": []
    },
    {
      "cell_type": "code",
      "metadata": {
        "colab": {
          "base_uri": "https://localhost:8080/",
          "height": 139,
          "referenced_widgets": [
            "bac9eb2ad44446d797dee48d8719243f",
            "722b577d18714ae7afa82752caebf5bd",
            "b9387598b8824530b320b73fa3d4ce61",
            "96849764118f4da694e3e2f9a9467a72",
            "c591fa6d6d4e44458967a2d5c6c8275b",
            "93c70782940148f7b15eccb6b83959df",
            "9acbe03850854f3bb9818a4e48fca76d",
            "8c8a90e016124d81b6736c1ecf4a0db0"
          ]
        },
        "id": "84t5xPgC0yrW",
        "outputId": "80c4a0b4-2e06-4b7a-fa2c-883a8c3e1fd0"
      },
      "source": [
        "num_workers=2\n",
        "batch_size=20\n",
        "valid_size=0.2\n",
        "\n",
        "transform=transforms.Compose([transforms.ToTensor(),transforms.Normalize((0.5,0.5,0.5),(0.5,0.5,0.5))])\n",
        "\n",
        "train_data=datasets.CIFAR10('data', train=True, download=True, transform=transform)\n",
        "test_data = datasets.CIFAR10('data', train=False,download=True, transform=transform)\n",
        "\n",
        "num_train=int(len(train_data))\n",
        "indices = list(range(num_train))\n",
        "np.random.shuffle(indices)\n",
        "split = int(np.floor(valid_size * num_train))\n",
        "train_idx, valid_idx = indices[split:], indices[:split]\n",
        "\n",
        "\n",
        "train_sampler = SubsetRandomSampler(train_idx)\n",
        "valid_sampler = SubsetRandomSampler(valid_idx)\n",
        "\n",
        "\n",
        "train_loader = torch.utils.data.DataLoader(train_data, batch_size=batch_size,\n",
        "    sampler=train_sampler, num_workers=num_workers)\n",
        "valid_loader = torch.utils.data.DataLoader(train_data, batch_size=batch_size, \n",
        "    sampler=valid_sampler, num_workers=num_workers)\n",
        "test_loader = torch.utils.data.DataLoader(test_data, batch_size=batch_size, \n",
        "    num_workers=num_workers)\n",
        "\n",
        "\n",
        "classes = ['wound','burn','bite']"
      ],
      "execution_count": 3,
      "outputs": [
        {
          "output_type": "stream",
          "text": [
            "Downloading https://www.cs.toronto.edu/~kriz/cifar-10-python.tar.gz to data/cifar-10-python.tar.gz\n"
          ],
          "name": "stdout"
        },
        {
          "output_type": "display_data",
          "data": {
            "application/vnd.jupyter.widget-view+json": {
              "model_id": "bac9eb2ad44446d797dee48d8719243f",
              "version_minor": 0,
              "version_major": 2
            },
            "text/plain": [
              "HBox(children=(FloatProgress(value=0.0, max=170498071.0), HTML(value='')))"
            ]
          },
          "metadata": {
            "tags": []
          }
        },
        {
          "output_type": "stream",
          "text": [
            "\n",
            "Extracting data/cifar-10-python.tar.gz to data\n",
            "Files already downloaded and verified\n"
          ],
          "name": "stdout"
        }
      ]
    },
    {
      "cell_type": "code",
      "metadata": {
        "id": "GuODYCMj1mDE"
      },
      "source": [
        "import torch.nn as nn\n",
        "import torch.nn.functional as F"
      ],
      "execution_count": 4,
      "outputs": []
    },
    {
      "cell_type": "code",
      "metadata": {
        "colab": {
          "base_uri": "https://localhost:8080/"
        },
        "id": "BPLZfdWx12nN",
        "outputId": "5748d0ca-59da-472a-ac9d-39c6cffddefd"
      },
      "source": [
        "class Net(nn.Module):\n",
        "  def __init__(self):\n",
        "    super(Net,self).__init__()\n",
        "    self.conv1=nn.Conv2d(3,16,3,padding=1)\n",
        "    self.conv2=nn.Conv2d(16,32,3,padding=1)\n",
        "    self.conv3=nn.Conv2d(32,64,3,padding=1)\n",
        "\n",
        "    self.pool=nn.MaxPool2d(2,2)\n",
        "\n",
        "    self.fc1=nn.Linear(64*4*4,512)\n",
        "    self.fc2=nn.Linear(512,10)\n",
        "\n",
        "    self.Dropout=nn.Dropout(0.2)\n",
        "  \n",
        "  def forward(self,x):\n",
        "    x=self.pool(F.relu(self.conv1(x)))\n",
        "    x=self.pool(F.relu(self.conv2(x)))\n",
        "    x=self.pool(F.relu(self.conv3(x)))\n",
        "\n",
        "    x=x.view(-1,64*4*4)\n",
        "\n",
        "    x=self.Dropout(x)\n",
        "\n",
        "    x=F.relu(self.fc1(x))\n",
        "\n",
        "    x=self.Dropout(x)\n",
        "\n",
        "    x=self.fc2(x)\n",
        "\n",
        "    return x\n",
        "\n",
        "model = Net()\n",
        "print(model)\n",
        "\n",
        "if train_on_gpu:\n",
        "    model.cuda()\n"
      ],
      "execution_count": 5,
      "outputs": [
        {
          "output_type": "stream",
          "text": [
            "Net(\n",
            "  (conv1): Conv2d(3, 16, kernel_size=(3, 3), stride=(1, 1), padding=(1, 1))\n",
            "  (conv2): Conv2d(16, 32, kernel_size=(3, 3), stride=(1, 1), padding=(1, 1))\n",
            "  (conv3): Conv2d(32, 64, kernel_size=(3, 3), stride=(1, 1), padding=(1, 1))\n",
            "  (pool): MaxPool2d(kernel_size=2, stride=2, padding=0, dilation=1, ceil_mode=False)\n",
            "  (fc1): Linear(in_features=1024, out_features=512, bias=True)\n",
            "  (fc2): Linear(in_features=512, out_features=10, bias=True)\n",
            "  (Dropout): Dropout(p=0.2, inplace=False)\n",
            ")\n"
          ],
          "name": "stdout"
        }
      ]
    },
    {
      "cell_type": "code",
      "metadata": {
        "id": "e-7yshjx2GYj"
      },
      "source": [
        "criterion=nn.CrossEntropyLoss()\n",
        "import torch.optim as optim\n",
        "optimizer=optim.SGD(model.parameters(), lr=0.01)"
      ],
      "execution_count": 6,
      "outputs": []
    },
    {
      "cell_type": "code",
      "metadata": {
        "colab": {
          "base_uri": "https://localhost:8080/"
        },
        "id": "7jtp5TD62OSQ",
        "outputId": "61fe0267-bebe-46ba-8868-0d5432d0a3b3"
      },
      "source": [
        "epochs=30\n",
        "valid_loss_min=np.Inf\n",
        "for i in range(1,epochs+1):\n",
        "  train_loss=0\n",
        "  valid_loss=0\n",
        "\n",
        "  model.train()\n",
        "  for data,target in train_loader:\n",
        "    if train_on_gpu:\n",
        "      data, target = data.cuda(), target.cuda()\n",
        "    optimizer.zero_grad()\n",
        "    output=model(data)\n",
        "    loss=criterion(output,target)\n",
        "    loss.backward()\n",
        "    optimizer.step()\n",
        "    train_loss += loss.item()*data.size(0)\n",
        "\n",
        "  model.eval()\n",
        "  for data,target in valid_loader:\n",
        "    if train_on_gpu:\n",
        "      data, target = data.cuda(), target.cuda()\n",
        "    optimizer.zero_grad()\n",
        "    output=model(data)\n",
        "    loss=criterion(output,target)\n",
        "    loss.backward()\n",
        "    optimizer.step()\n",
        "    valid_loss += loss.item()*data.size(0)\n",
        "  \n",
        "  valid_loss=valid_loss/len(train_loader.sampler)\n",
        "  train_loss=train_loss/len(train_loader.sampler)\n",
        "  print('Epoch: {} \\tTraining Loss: {:.6f} \\tValidation Loss: {:.6f}'.format(i, train_loss, valid_loss))\n",
        "  if valid_loss <= valid_loss_min:\n",
        "        print('Validation loss decreased ({:.6f} --> {:.6f}).  Saving model ...'.format(valid_loss_min,valid_loss))\n",
        "        torch.save(model.state_dict(), 'model_cifar.pt')\n",
        "        valid_loss_min = valid_loss\n"
      ],
      "execution_count": 7,
      "outputs": [
        {
          "output_type": "stream",
          "text": [
            "Epoch: 1 \tTraining Loss: 2.105012 \tValidation Loss: 0.435459\n",
            "Validation loss decreased (inf --> 0.435459).  Saving model ...\n",
            "Epoch: 2 \tTraining Loss: 1.602101 \tValidation Loss: 0.360222\n",
            "Validation loss decreased (0.435459 --> 0.360222).  Saving model ...\n",
            "Epoch: 3 \tTraining Loss: 1.409390 \tValidation Loss: 0.321134\n",
            "Validation loss decreased (0.360222 --> 0.321134).  Saving model ...\n",
            "Epoch: 4 \tTraining Loss: 1.282962 \tValidation Loss: 0.291048\n",
            "Validation loss decreased (0.321134 --> 0.291048).  Saving model ...\n",
            "Epoch: 5 \tTraining Loss: 1.183960 \tValidation Loss: 0.264698\n",
            "Validation loss decreased (0.291048 --> 0.264698).  Saving model ...\n",
            "Epoch: 6 \tTraining Loss: 1.098770 \tValidation Loss: 0.242756\n",
            "Validation loss decreased (0.264698 --> 0.242756).  Saving model ...\n",
            "Epoch: 7 \tTraining Loss: 1.026062 \tValidation Loss: 0.224221\n",
            "Validation loss decreased (0.242756 --> 0.224221).  Saving model ...\n",
            "Epoch: 8 \tTraining Loss: 0.966814 \tValidation Loss: 0.206863\n",
            "Validation loss decreased (0.224221 --> 0.206863).  Saving model ...\n",
            "Epoch: 9 \tTraining Loss: 0.908205 \tValidation Loss: 0.189895\n",
            "Validation loss decreased (0.206863 --> 0.189895).  Saving model ...\n",
            "Epoch: 10 \tTraining Loss: 0.858934 \tValidation Loss: 0.174855\n",
            "Validation loss decreased (0.189895 --> 0.174855).  Saving model ...\n",
            "Epoch: 11 \tTraining Loss: 0.811937 \tValidation Loss: 0.161285\n",
            "Validation loss decreased (0.174855 --> 0.161285).  Saving model ...\n",
            "Epoch: 12 \tTraining Loss: 0.772351 \tValidation Loss: 0.147367\n",
            "Validation loss decreased (0.161285 --> 0.147367).  Saving model ...\n",
            "Epoch: 13 \tTraining Loss: 0.737108 \tValidation Loss: 0.136011\n",
            "Validation loss decreased (0.147367 --> 0.136011).  Saving model ...\n",
            "Epoch: 14 \tTraining Loss: 0.700785 \tValidation Loss: 0.123420\n",
            "Validation loss decreased (0.136011 --> 0.123420).  Saving model ...\n",
            "Epoch: 15 \tTraining Loss: 0.661869 \tValidation Loss: 0.110941\n",
            "Validation loss decreased (0.123420 --> 0.110941).  Saving model ...\n",
            "Epoch: 16 \tTraining Loss: 0.631942 \tValidation Loss: 0.099251\n",
            "Validation loss decreased (0.110941 --> 0.099251).  Saving model ...\n",
            "Epoch: 17 \tTraining Loss: 0.598959 \tValidation Loss: 0.088075\n",
            "Validation loss decreased (0.099251 --> 0.088075).  Saving model ...\n",
            "Epoch: 18 \tTraining Loss: 0.570286 \tValidation Loss: 0.078677\n",
            "Validation loss decreased (0.088075 --> 0.078677).  Saving model ...\n",
            "Epoch: 19 \tTraining Loss: 0.538684 \tValidation Loss: 0.068012\n",
            "Validation loss decreased (0.078677 --> 0.068012).  Saving model ...\n",
            "Epoch: 20 \tTraining Loss: 0.508096 \tValidation Loss: 0.060441\n",
            "Validation loss decreased (0.068012 --> 0.060441).  Saving model ...\n",
            "Epoch: 21 \tTraining Loss: 0.484263 \tValidation Loss: 0.051882\n",
            "Validation loss decreased (0.060441 --> 0.051882).  Saving model ...\n",
            "Epoch: 22 \tTraining Loss: 0.460430 \tValidation Loss: 0.045798\n",
            "Validation loss decreased (0.051882 --> 0.045798).  Saving model ...\n",
            "Epoch: 23 \tTraining Loss: 0.437497 \tValidation Loss: 0.039662\n",
            "Validation loss decreased (0.045798 --> 0.039662).  Saving model ...\n",
            "Epoch: 24 \tTraining Loss: 0.408193 \tValidation Loss: 0.035827\n",
            "Validation loss decreased (0.039662 --> 0.035827).  Saving model ...\n",
            "Epoch: 25 \tTraining Loss: 0.388651 \tValidation Loss: 0.032240\n",
            "Validation loss decreased (0.035827 --> 0.032240).  Saving model ...\n",
            "Epoch: 26 \tTraining Loss: 0.370785 \tValidation Loss: 0.027442\n",
            "Validation loss decreased (0.032240 --> 0.027442).  Saving model ...\n",
            "Epoch: 27 \tTraining Loss: 0.348352 \tValidation Loss: 0.024480\n",
            "Validation loss decreased (0.027442 --> 0.024480).  Saving model ...\n",
            "Epoch: 28 \tTraining Loss: 0.339388 \tValidation Loss: 0.023288\n",
            "Validation loss decreased (0.024480 --> 0.023288).  Saving model ...\n",
            "Epoch: 29 \tTraining Loss: 0.313748 \tValidation Loss: 0.020470\n",
            "Validation loss decreased (0.023288 --> 0.020470).  Saving model ...\n",
            "Epoch: 30 \tTraining Loss: 0.298269 \tValidation Loss: 0.019420\n",
            "Validation loss decreased (0.020470 --> 0.019420).  Saving model ...\n"
          ],
          "name": "stdout"
        }
      ]
    },
    {
      "cell_type": "code",
      "metadata": {
        "colab": {
          "base_uri": "https://localhost:8080/"
        },
        "id": "A8r2V2oG5pTD",
        "outputId": "18b25c65-a3c1-4df9-bd5d-919bd4dd9313"
      },
      "source": [
        "test_loss = 0.0\n",
        "class_correct = list(0. for i in range(10))\n",
        "class_total = list(0. for i in range(10))\n",
        "\n",
        "model.eval()\n",
        "for data, target in test_loader:\n",
        "    if train_on_gpu:\n",
        "        data, target = data.cuda(), target.cuda()\n",
        "    output = model(data)\n",
        "    loss = criterion(output, target) \n",
        "    test_loss += loss.item()*data.size(0)\n",
        "    _, pred = torch.max(output, 1)    \n",
        "    correct_tensor = pred.eq(target.data.view_as(pred))\n",
        "    correct = np.squeeze(correct_tensor.numpy()) if not train_on_gpu else np.squeeze(correct_tensor.cpu().numpy())\n",
        "    for i in range(batch_size):\n",
        "        label = target.data[i]\n",
        "        class_correct[label] += correct[i].item()\n",
        "        class_total[label] += 1\n",
        "\n",
        "test_loss = test_loss/len(test_loader.dataset)\n",
        "print('Test Loss: {:.6f}\\n'.format(test_loss))\n",
        "\n",
        "for i in range(3):\n",
        "    if class_total[i] > 0:\n",
        "        print('Test Accuracy of %5s: %2d%% (%2d/%2d)' % (\n",
        "            classes[i], 100 * class_correct[i] / class_total[i],\n",
        "            np.sum(class_correct[i]), np.sum(class_total[i])))\n",
        "    else:\n",
        "        print('Test Accuracy of %5s: N/A (no training examples)' % (classes[i]))\n",
        "\n",
        "print('\\nTest Accuracy (Overall): %2d%% (%2d/%2d)' % (\n",
        "    100. * np.sum(class_correct) / np.sum(class_total),\n",
        "    np.sum(class_correct), np.sum(class_total)))"
      ],
      "execution_count": 9,
      "outputs": [
        {
          "output_type": "stream",
          "text": [
            "Test Loss: 1.030941\n",
            "\n",
            "Test Accuracy of wound: 80% (800/1000)\n",
            "Test Accuracy of  burn: 86% (864/1000)\n",
            "Test Accuracy of  bite: 69% (697/1000)\n",
            "\n",
            "Test Accuracy (Overall): 75% (7527/10000)\n"
          ],
          "name": "stdout"
        }
      ]
    }
  ]
}